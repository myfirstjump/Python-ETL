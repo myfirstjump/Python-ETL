{
 "cells": [
  {
   "cell_type": "markdown",
   "metadata": {},
   "source": [
    "基本xml資訊擷取"
   ]
  },
  {
   "cell_type": "markdown",
   "metadata": {},
   "source": [
    ".xml檔案是以tag型式定義的文字檔案\n",
    "可以直接以文字檔方式讀取，也可以使用如lxml(python內建工具)等解析工具讀取處理。\n",
    "一般來說直接讀取文字處理會比較快(檔案不大時感覺不出來)，不過彈性也較小，每個案子要更改及開發的內容比較多。\n",
    "這裡介紹如何用lxml套件來取得想要的資訊。"
   ]
  },
  {
   "cell_type": "code",
   "execution_count": null,
   "metadata": {
    "collapsed": true
   },
   "outputs": [],
   "source": [
    "範例檔案: \n",
    "    內容複製範例https://www.blog.pythonlibrary.org/2010/11/20/python-parsing-xml-with-lxml/\n",
    "    並且加入幾個新的tag以增加使用靈活度。\n",
    "    \n",
    "    <>包起來的部分稱做tag，一定有頭尾比如<price> $5,000 </price>。資訊以tag做好管理，所以我們根據檔案的邏輯去拿取需要的資訊。\n",
    "目標:\n",
    "    拿取如下格式的資訊\n",
    "    [\n",
    "        {\n",
    "            Query_id: Query_1,\n",
    "            書:{\n",
    "                [{book_title: book1, book_catalog: XXX}, {book_title: book2, book_catalog: XXX}, {}, ... ]\n",
    "            }\n",
    "        }\n",
    "        {\n",
    "            Query_id: Query_2,\n",
    "            書:{\n",
    "                \n",
    "            }\n",
    "        }\n",
    "        .\n",
    "        .\n",
    "        .      \n",
    "    ]\n",
    "    一個query裡面(查詢)，有好幾個Hit(書的分類)；每個Hit裡面又有多個Hsp(書)\n",
    "    \n",
    "# <?xml version=\"1.0\"?>\n",
    "# <PH>\n",
    "# <Iteration><Iteration_query-ID>Query_1</Iteration_query-ID><Hit><Hit_def>7 dna_sm:chromosome chromosome:GRCh37:7:1:159138663:1 REF</Hit_def>\n",
    "#    <Hsp id=\"bk101\">\n",
    "#       <author>Gambardella, Matthew</author>\n",
    "#       <title>XML Developer's Guide</title>\n",
    "#       <genre>Computer</genre>\n",
    "#       <price>44.95</price>\n",
    "#       <publish_date>2000-10-01</publish_date>\n",
    "#       <description>An in-depth look at creating applications \n",
    "#       with XML.</description>\n",
    "#    </Hsp>\n",
    "#    </Hit>\n",
    "#     .\n",
    "#     .\n",
    "#     ."
   ]
  },
  {
   "cell_type": "code",
   "execution_count": 1,
   "metadata": {
    "collapsed": true
   },
   "outputs": [],
   "source": [
    "from lxml import etree"
   ]
  },
  {
   "cell_type": "code",
   "execution_count": null,
   "metadata": {
    "collapsed": true
   },
   "outputs": [],
   "source": [
    "基本步驟: 先瞄準需要的tag，例子中我想從Iteration開始，不需要從PH這個tag開始。\n",
    "    首先使用etree.parse 或是 etree.iterparse"
   ]
  },
  {
   "cell_type": "code",
   "execution_count": 33,
   "metadata": {},
   "outputs": [
    {
     "name": "stdout",
     "output_type": "stream",
     "text": [
      "end <Element Iteration at 0x6034208>\n",
      "end <Element Iteration at 0x603d2c8>\n",
      "end <Element Iteration at 0x603d188>\n"
     ]
    }
   ],
   "source": [
    "for event, each_Iteration in etree.iterparse('lxml_practice_example.xml', tag = 'Iteration'):\n",
    "    print(event, each_Iteration)"
   ]
  },
  {
   "cell_type": "code",
   "execution_count": null,
   "metadata": {
    "collapsed": true
   },
   "outputs": [],
   "source": [
    "event在文件中有定義，each_Iteraction是parser解析出來的物件。\n",
    "https://lxml.de/parsing.html"
   ]
  },
  {
   "cell_type": "code",
   "execution_count": 34,
   "metadata": {},
   "outputs": [
    {
     "name": "stdout",
     "output_type": "stream",
     "text": [
      "Iteration None\n",
      "Iteration None\n",
      "Iteration None\n"
     ]
    }
   ],
   "source": [
    "for event, each_Iteration in etree.iterparse('lxml_practice_example.xml', tag = 'Iteration'):\n",
    "    print(each_Iteration.tag, each_Iteration.text)"
   ]
  },
  {
   "cell_type": "code",
   "execution_count": null,
   "metadata": {
    "collapsed": true
   },
   "outputs": [],
   "source": [
    "兩個關鍵的 attributes 分別是 .tag和.text\n",
    "一個是顯示 tag 本身，另一個是顯示tag中包起來的文字。"
   ]
  },
  {
   "cell_type": "code",
   "execution_count": 36,
   "metadata": {},
   "outputs": [
    {
     "name": "stdout",
     "output_type": "stream",
     "text": [
      "Query_id: Query_1\n",
      "Query_id: Query_1\n",
      "Query_id: Query_1\n"
     ]
    }
   ],
   "source": [
    "for event, each_Iteration in etree.iterparse('lxml_practice_example.xml', tag = 'Iteration'):\n",
    "    q_id = each_Iteration.find('Iteration_query-ID').text\n",
    "    print('Query_id:', q_id)"
   ]
  },
  {
   "cell_type": "code",
   "execution_count": null,
   "metadata": {
    "collapsed": true
   },
   "outputs": [],
   "source": [
    "我們需要的第一個東西是Query_id，使用find()函數，找到對應的tag -> Iteration_query-ID\n",
    "這裡每個Iteration指包含一個Query_id，所以我們用find()\n",
    "find()只會找到第一個tag\n",
    "如果有很多個Query_id在同個Iteration裡面，可能要使用findall('ttt')，會列出此Iteration中所有'ttt' tag的物件。"
   ]
  },
  {
   "cell_type": "code",
   "execution_count": 43,
   "metadata": {},
   "outputs": [
    {
     "name": "stdout",
     "output_type": "stream",
     "text": [
      "Gambardella, Matthew\n",
      "XML Developer's Guide\n",
      "Computer\n",
      "44.95\n",
      "2000-10-01\n",
      "An in-depth look at creating applications \n",
      "      with XML.\n",
      "Gambardella, Matthew\n",
      "XML Developer's Guide\n",
      "Computer\n",
      "44.95\n",
      "2000-10-01\n",
      "An in-depth look at creating applications \n",
      "      with XML.\n",
      "Gambardella, Matthew\n",
      "XML Developer's Guide\n",
      "Computer\n",
      "44.95\n",
      "2000-10-01\n",
      "An in-depth look at creating applications \n",
      "      with XML.\n"
     ]
    }
   ],
   "source": [
    "for event, each_Iteration in etree.iterparse('lxml_practice_example.xml', tag = 'Iteration'):\n",
    "\n",
    "#     print(event)\n",
    "    q_id = each_Iteration.find('Iteration_query-ID').text\n",
    "#     print('Query_id:', q_id)\n",
    "    \n",
    "    for each_Hsp in each_Iteration.find('Hit/Hsp'):\n",
    "        print(each_Hsp.text)"
   ]
  },
  {
   "cell_type": "code",
   "execution_count": null,
   "metadata": {
    "collapsed": true
   },
   "outputs": [],
   "source": [
    "另一個技巧是find()裡面可以tag接下一個tag一直接下去，用'/'格開。\n",
    "each_Iteration.find('Hit/Hsp') 就可以找出 Iteration 中第一個 Hit 中第一個 Hsp 物件。"
   ]
  },
  {
   "cell_type": "code",
   "execution_count": 38,
   "metadata": {},
   "outputs": [
    {
     "name": "stdout",
     "output_type": "stream",
     "text": [
      "Query_id: Query_1\n",
      "chr: 7\n",
      "XML Developer's Guide\n",
      "chr: X\n",
      "Midnight Rain\n",
      "Maeve Ascendant\n",
      "Oberon's Legacy\n",
      "The Sundered Grail\n",
      "Lover Birds\n",
      "Splish Splash\n",
      "Creepy Crawlies\n",
      "Paradox Lost\n",
      "Microsoft .NET: The Programming Bible\n",
      "MSXML3: A Comprehensive Guide\n",
      "Visual Studio 7: A Comprehensive Guide\n",
      "Query_id: Query_1\n",
      "chr: 7\n",
      "XML Developer's Guide\n",
      "chr: X\n",
      "Midnight Rain\n",
      "Maeve Ascendant\n",
      "Oberon's Legacy\n",
      "The Sundered Grail\n",
      "Lover Birds\n",
      "Splish Splash\n",
      "Creepy Crawlies\n",
      "Paradox Lost\n",
      "Microsoft .NET: The Programming Bible\n",
      "MSXML3: A Comprehensive Guide\n",
      "Visual Studio 7: A Comprehensive Guide\n",
      "Query_id: Query_1\n",
      "chr: 7\n",
      "XML Developer's Guide\n",
      "chr: X\n",
      "Midnight Rain\n",
      "Maeve Ascendant\n",
      "Oberon's Legacy\n",
      "The Sundered Grail\n",
      "Lover Birds\n",
      "Splish Splash\n",
      "Creepy Crawlies\n",
      "Paradox Lost\n",
      "Microsoft .NET: The Programming Bible\n",
      "MSXML3: A Comprehensive Guide\n",
      "Visual Studio 7: A Comprehensive Guide\n"
     ]
    }
   ],
   "source": [
    "for event, each_Iteration in etree.iterparse('lxml_practice_example.xml', tag = 'Iteration'):\n",
    "\n",
    "#     print(event)\n",
    "    q_id = each_Iteration.find('Iteration_query-ID').text\n",
    "    print('Query_id:', q_id)\n",
    "    \n",
    "    for each_Hit in each_Iteration.findall('Hit'):\n",
    "        cata_str = each_Hit.find('Hit_def').text\n",
    "        cata_str = cata_str.split(':')[3]\n",
    "        print('chr:', cata_str)\n",
    "        for each_Hsp in each_Hit.findall('Hsp'):\n",
    "            print(each_Hsp.find('title').text)"
   ]
  },
  {
   "cell_type": "code",
   "execution_count": null,
   "metadata": {
    "collapsed": true
   },
   "outputs": [],
   "source": [
    "著個方式可以得到我們所有想要的資訊，之後整理成python dictionary的物件就在這裡跳過囉。"
   ]
  }
 ],
 "metadata": {
  "kernelspec": {
   "display_name": "Python 3",
   "language": "python",
   "name": "python3"
  },
  "language_info": {
   "codemirror_mode": {
    "name": "ipython",
    "version": 3
   },
   "file_extension": ".py",
   "mimetype": "text/x-python",
   "name": "python",
   "nbconvert_exporter": "python",
   "pygments_lexer": "ipython3",
   "version": "3.6.3"
  }
 },
 "nbformat": 4,
 "nbformat_minor": 2
}
