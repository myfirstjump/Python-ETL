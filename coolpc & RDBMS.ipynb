{
 "cells": [
  {
   "cell_type": "code",
   "execution_count": 7,
   "metadata": {
    "collapsed": true
   },
   "outputs": [],
   "source": [
    "import requests\n",
    "import re\n",
    "from bs4 import BeautifulSoup"
   ]
  },
  {
   "cell_type": "code",
   "execution_count": 8,
   "metadata": {
    "collapsed": true
   },
   "outputs": [],
   "source": [
    "url = \"http://www.coolpc.com.tw/m/m-list.php\"\n",
    "res = requests.post(url, data = {\"G\":\"6\"})\n",
    "# res = requests.get(url, ？headers = {\"User-Agent\":\"Mozilla/5.0 (iPhone; CPU iPhone OS 9_1 like Mac OS X) AppleWebKit/601.1.46 (KHTML, like Gecko) Version/9.0 Mobile/13B143 Safari/601.1\"})"
   ]
  },
  {
   "cell_type": "code",
   "execution_count": 9,
   "metadata": {},
   "outputs": [
    {
     "data": {
      "text/plain": [
       "<Response [200]>"
      ]
     },
     "execution_count": 9,
     "metadata": {},
     "output_type": "execute_result"
    }
   ],
   "source": [
    "res"
   ]
  },
  {
   "cell_type": "code",
   "execution_count": 10,
   "metadata": {},
   "outputs": [
    {
     "data": {
      "text/plain": [
       "'<html>\\n<head>\\n<meta http-equiv=\"Content-Type\" content=\"text/html; charset=big5\">\\n<title>原價屋 記憶體 RAM 報價</title>\\n<style>\\nbody{margin:0;overflow:auto;background:url(backbg.png) repeat-x}\\nimg{border:0}\\n.Tbl *{font-size:32pt}\\nbutton th{font-size:36pt;padding:3 12 3 12}\\n#Tot{color:blue;font-size:34pt}\\n.t span{font-size:34pt}\\n.t,.Q table{width:800}\\ntd{padding:1}\\n.Q thead{background-color:#999;width:800}\\n.Q tbody{background-color:#ccc;width:800}\\n.Q td,.Q th{cursor:pointer;width:800}\\n.Q th{font-size:40pt;padding-left:54;padding-top:16;text-align:left;font-weight:900}\\n.Q td{font-size:32pt;padding-left:70;padding-top:16;border-bottom:black solid 1px}\\n.Q th img{margin-left:-50;border:0}\\n.Q td img{margin-left:-40;margin-right:2}\\n.d{font-size:28pt}\\n.h{display:none}\\n.b{color:blue}\\n.g{color:green}\\n.r{color:red}\\n.s{padding:6 9 1 9;cursor:pointer}\\n.t td{font-size:46pt;color:#ccc;padding:0;cursor:pointer}\\n</style>\\n<script>\\nfunction Mon(a){\\na.onmouseout=new Function(\\'this.style.color=\"\"\\')\\na.style.color=\"white\"}\\nfunction Pull(a){\\nvar tby=a.parentNode.parentNode.nextSibling\\nif (tby.className==\"h\"){\\n  tby.className=\"\"\\n  a.children[0].src=\"m.gif\"\\n}else{\\n  tby.className=\"h\"\\n  a.children[0].src=\"p.gif\"}\\n}\\nfunction A(a){\\nvar S=a.firstChild.nextSibling.nodeValue\\na.style.backgroundColor=\"gold\"\\nif (user.Rmail.value){\\n  if (confirm(\"將【\"+S+\"】加到清單？\")){\\n    user.mlist.value=S.substring(0,S.lastIndexOf(\",\"))\\n    user.cond.value=2\\n    user.submit()}\\n}else alert(\"請先輸入您正確的 Email 後，\\\\n才可以將商品加到自己查價清單\");\\na.style.backgroundColor=\"\"\\n}\\nfunction chkmail(){\\nvar filter=/^([\\\\w-]+(?:\\\\.[\\\\w-]+)*)@((?:[\\\\w-]+\\\\.)*\\\\w[\\\\w-]{0,66})\\\\.([a-z]{2,6}(?:\\\\.[a-z]{2})?)$/i\\nvar S=user.email.value, b=S.indexOf(\"<\"), e=S.indexOf(\">\");\\nif ((b!=-1)&&(e!=-1)) S=S.substring(b+1,e);\\nuser.cond.value=1\\nuser.Rmail.value=\"\"\\nif (S.length)\\n  if (filter.test(S)){\\n    user.Rmail.value=S\\n    Doc.firstChild.nodeValue=\"清單累計金額：\"\\n    user.submit()\\n  }else{\\n    alert(S+\"\\\\n請輸入正確的 Email !\");\\n    Tot.innerHTML=mItem.innerHTML=user.Rmail.value=\"\"\\n    Doc.firstChild.nodeValue=\"輸入email才可建立清單\"\\n    user.submit()\\n }\\nelse{\\n  Tot.innerHTML=mItem.innerHTML=user.Rmail.value=\"\"\\n  Doc.firstChild.nodeValue=\"輸入email才可建立清單\"\\n  user.submit()\\n }\\n}\\nfunction Choose(){\\niMode=(iMode) ? 0 : 1\\nif (iMode==0){\\n  document.mImg.src= \"m.gif\"\\n  Ifrm.style.display=\"\"\\n}else{\\n  document.mImg.src= \"p.gif\"\\n  Ifrm.style.display=\"none\"\\n}\\nreturn false\\n}\\nfunction validate(evt){\\n  var theEvent = evt || window.event\\n  var keyC = theEvent.keyCode || theEvent.which\\n//  var regex = /[0-9]/\\n  if (keyC==13) return false\\n}\\nfunction init(){\\nchkmail()\\niMode=1\\n}\\n</script>\\n</head>\\n<body bgcolor=white onload=\"init()\" onkeydown=\"return validate(event)\">\\n<center>\\n<table cellspacing=0 cellpadding=0 height=128 border=0 class=Tbl>\\n<form name=user method=post target=ifrm action=\"my.php\" onsubmit=\"ifrm.location.replace(\\'my.php?email=\\'+this.email+\\'&Rmail=\\'+this.Rmail+\\'&cond=\\'+this.cond+\\'&mlist=\\'+this.mlist);return false\">\\n<tr><td rowspan=2 onclick=\"location.replace(\\'./\\')\" style=\"cursor:pointer\"><img src=\"edit_undo.png\">\\n<td><input name=email size=19 maxlength=36 onChange=\"chkmail()\" value=\\'\\'><td rowspan=2 onclick=\"return Choose()\" style=\"cursor:pointer;background:url(doc_fav.png) right no-repeat\"><table cellspacing=0 cellpadding=0 border=0 height=128><tr><td width=136 style=\"color:red;font-size:62pt;font-weight:900\" align=center id=mItem><td valign=top style=\"padding-top:2\"><img name=mImg src=p.gif></table></td></tr>\\n<tr><td id=Doc nowrap>輸入email才可建立清單<b id=Tot></b><input type=hidden name=Rmail><input type=hidden name=cond><input type=hidden name=mlist></tr>\\n</form>\\n</table>\\n<span id=Ifrm style=\"display:none\"><iframe name=ifrm frameborder=0 height=200 width=800></iframe></span>\\n<div><table background=img/navbg1.png cellspacing=0 class=t onclick=\"location.replace(\\'./\\')\"><tr><td width=68 align=center valign=middle><img src=img/back3.png><td nowrap style=\"padding-top:14;padding-bottom:10\">&nbsp;<b>記憶體 RAM</b></tr></table></div>\\n<span class=Q>\\n<table width=100% cellspacing=0><thead><tr><th onclick=Pull(this) onmouseover=Mon(this)><img src=\\'p.gif\\'> 伺服器專用記憶體 DDR3 RDIMM</tr></thead><tbody class=h>\\n<tr><td onclick=A(this)><img src=d.gif>金士頓 8G DDR3-1600 Ecc Reg (KVR16R11S4/8), $1950</tr>\\n</tbody></table>\\n<table width=100% cellspacing=0><thead><tr><th onclick=Pull(this) onmouseover=Mon(this)><img src=\\'p.gif\\'> 伺服器專用記憶體 DDR4 ECC UDIMM</tr></thead><tbody class=h>\\n<tr><td onclick=A(this)><img src=d.gif>V-color 8GB DDR4 2133MHz Ecc 伺服器專用記憶體, $2200</tr>\\n<tr><td onclick=A(this)><img src=d.gif>V-color 8GB DDR4 2400MHz Ecc 伺服器專用記憶體, $2450</tr>\\n<tr><td onclick=A(this)><img src=d.gif>V-color 16GB DDR4 2133MHz Ecc 伺服器專用記憶體, $4100</tr>\\n<tr><td onclick=A(this)><img src=d.gif>V-color 16GB DDR4 2400MHz Ecc 伺服器專用記憶體, $4400</tr>\\n<tr><td onclick=A(this) class=g><img src=d.gif>金士頓 8G DDR4-2133 Ecc (KVR21E15D8/8), $1790↗$2350</tr>\\n<tr><td onclick=A(this) class=g><img src=d.gif>金士頓 8G DDR4-2400 Ecc (KVR24E17S8/8), $2400↗$2600</tr>\\n<tr><td onclick=A(this) class=g><img src=d.gif>金士頓 16G DDR4-2133 Ecc (KVR21E15D8/16 ), $3590↗$4550</tr>\\n<tr><td onclick=A(this)><img src=d.gif>美超微 8G DDR4-2133 Ecc/Hynix顆粒, $1990</tr>\\n<tr><td onclick=A(this)><img src=d.gif>美超微 16G DDR4-2133 Ecc/Samsung顆粒, $3990</tr>\\n</tbody></table>\\n<table width=100% cellspacing=0><thead><tr><th onclick=Pull(this) onmouseover=Mon(this)><img src=\\'p.gif\\'> 伺服器專用記憶體 DDR4 RDIMM</tr></thead><tbody class=h>\\n<tr><td onclick=A(this) class=r><img src=d.gif>V-color 16GB DDR4 2133MHz Ecc Reg 伺服器專用記憶體, $4150 <i>Hot！</i></tr>\\n<tr><td onclick=A(this) class=r><img src=d.gif>V-color 16GB DDR4 2400MHz Ecc Reg 伺服器專用記憶體, $4450 <i>Hot！</i></tr>\\n<tr><td onclick=A(this) class=g><img src=d.gif>金士頓 8G DDR4-2133 Ecc Reg (KVR21R15S4/8), $2250↗$2500</tr>\\n<tr><td onclick=A(this) class=g><img src=d.gif>金士頓 8G DDR4-2400 Ecc Reg (KVR24R17S4/8), $2550↗$2820</tr>\\n<tr><td onclick=A(this) class=g><img src=d.gif>金士頓 16G DDR4-2133 Ecc Reg (KVR21R15D4/16), $3950↗$4650</tr>\\n<tr><td onclick=A(this) class=g><img src=d.gif>金士頓 16G DDR4-2400 Ecc Reg (KVR24R17D4/16), $4299↗$4950</tr>\\n</tbody></table>\\n<table width=100% cellspacing=0><thead><tr><th onclick=Pull(this) onmouseover=Mon(this)><img src=\\'p.gif\\'> 伺服器專用記憶體 DDR4 RDIMM(雙條裝)</tr></thead><tbody class=h>\\n<tr><td onclick=A(this) class=r><img src=d.gif>V-color 32GB(16GBx2)DDR4 2400MHz Ecc Reg 伺服器專用記憶體/加裝伺服器專用散熱片, $8500 <i>Hot！</i></tr>\\n<tr><td onclick=A(this)><img src=d.gif>V-color 64GB(32GBx2)DDR4 2133MHz Ecc Reg 伺服器專用記憶體/加裝伺服器專用散熱片, $19600</tr>\\n</tbody></table>\\n<table width=100% cellspacing=0><thead><tr><th onclick=Pull(this) onmouseover=Mon(this)><img src=\\'p.gif\\'> 伺服器專用記憶體 Apple Mac Pro專用 (雙條裝)</tr></thead><tbody class=h>\\n<tr><td onclick=A(this)><img src=d.gif>V-color 32G(16GBx2)DDR3 1866 Apple Mac Pro專用?ECC REG DIMM伺服器專用記憶體, $8000</tr>\\n</tbody></table>\\n<table width=100% cellspacing=0><thead><tr><th onclick=Pull(this) onmouseover=Mon(this)><img src=\\'p.gif\\'> AEGIS 桌上型 DDR4電競</tr></thead><tbody class=h>\\n<tr><td onclick=A(this)><img src=d.gif>芝奇 G.SKILL AEGIS 8G*2雙通道DDR4-2400 CL15 (黑紅)(F4-2400C15D-16GIS) [終保], $3930</tr>\\n<tr><td onclick=A(this)><img src=d.gif>芝奇 G.SKILL AEGIS 16G*2雙通道DDR4-2400 CL15 (黑紅)(F4-2400C15D-32GIS) [終保], $7540</tr>\\n</tbody></table>\\n<table width=100% cellspacing=0><thead><tr><th onclick=Pull(this) onmouseover=Mon(this)><img src=\\'p.gif\\'> Ripjaws 4 桌上型 DDR4超頻</tr></thead><tbody class=h>\\n<tr><td onclick=A(this)><img src=d.gif>芝奇 G.SKILL Ripjaws 4 4G*4四通道DDR4-3200 CL16 (紅)(F4-3200C16Q-16GRKD) [終保], $6500</tr>\\n</tbody></table>\\n<table width=100% cellspacing=0><thead><tr><th onclick=Pull(this) onmouseover=Mon(this)><img src=\\'p.gif\\'> Ripjaws V 桌上型 DDR4超頻</tr></thead><tbody class=h>\\n<tr><td onclick=A(this) class=r><img src=d.gif>芝奇 G.SKILL Ripjaws V 8G*2雙通道DDR4-2400 CL15 (紅)(F4-2400C15D-16GVR) [終保], $3490 <i>Hot！</i></tr>\\n<tr><td onclick=A(this)><img src=d.gif>芝奇 G.SKILL Ripjaws V 8G*4四通道DDR4-2400 CL15 (紅)(F4-2400C15Q-32GVR) [終保], $8310</tr>\\n<tr><td onclick=A(this)><img src=d.gif>芝奇 G.SKILL Ripjaws V 16G*2雙通道DDR4-2400 CL15 (紅)(F4-2400C15D-32GVR)[終保], $7740</tr>\\n<tr><td onclick=A(this)><img src=d.gif>芝奇 G.SKILL Ripjaws V 16G*4四通道DDR4-2400 CL15 (紅)(F4-2400C15Q-64GVR) [終保], $15640</tr>\\n<tr><td onclick=A(this)><img src=d.gif>芝奇 G.SKILL Ripjaws V 8G*2雙通道DDR4-3000 CL15 (紅)(F4-3000C15D-16GVRB) [終保], $4370</tr>\\n<tr><td onclick=A(this)><img src=d.gif>芝奇 G.SKILL Ripjaws V 8G*2雙通道DDR4-3200 CL16 (黑)(F4-3200C16D-16GVKB) [終保], $4550</tr>\\n<tr><td onclick=A(this)><img src=d.gif>芝奇 G.SKILL Ripjaws V 16G*2雙通道DDR4-3200 CL16 (黑)(F4-3200C16D-32GVK) [終保], $8780</tr>\\n</tbody></table>\\n<table width=100% cellspacing=0><thead><tr><th onclick=Pull(this) onmouseover=Mon(this)><img src=\\'p.gif\\'> Trident Z 三叉戟 桌上型 DDR4旗艦</tr></thead><tbody class=h>\\n<tr><td onclick=A(this)><img src=d.gif>芝奇G.SKILL 三叉戟 8G*2雙通道DDR4-3000 CL15 (黑銀)(F4-3000C15D-16GTZB) [終保], $4660</tr>\\n<tr><td onclick=A(this)><img src=d.gif>芝奇G.SKILL 三叉戟16G*2雙通道DDR4-3000 CL15 (黑銀)(F4-3000C15D-32GTZ) [終保], $9170</tr>\\n<tr><td onclick=A(this)><img src=d.gif>芝奇G.SKILL 三叉戟8G*2雙通道DDR4-3200 CL16 (黑銀)(F4-3200C16D-16GTZB) [終保], $4860</tr>\\n<tr><td onclick=A(this)><img src=d.gif>芝奇G.SKILL 三叉戟8G*4四通道DDR4-3200 CL16 (黑銀)(F4-3200C16Q-32GTZB) [終保], $9200</tr>\\n<tr><td onclick=A(this)><img src=d.gif>芝奇G.SKILL 三叉戟16G*2雙通道DDR4-3200 CL16 (黑銀)(F4-3200C16D-32GTZ) [終保], $9090</tr>\\n<tr><td onclick=A(this)><img src=d.gif>芝奇G.SKILL 三叉戟16G*4四通道DDR4-3200 CL16 (黑銀)(F4-3200C16Q-64GTZ) [終保], $18310</tr>\\n<tr><td onclick=A(this)><img src=d.gif>芝奇G.SKILL 三叉戟8G*2雙通道DDR4-3400 CL16 (黑銀)(F4-3400C16D-16GTZ) [終保], $5750</tr>\\n<tr><td onclick=A(this)><img src=d.gif>芝奇G.SKILL 三叉戟16G*2雙通道DDR4-3400 CL16 (黑銀)(F4-3400C16D-32GTZ) [終保], $11930</tr>\\n</tbody></table>\\n<table width=100% cellspacing=0><thead><tr><th onclick=Pull(this) onmouseover=Mon(this)><img src=\\'p.gif\\'> Trident Z RGB 幻光戟 桌上型 DDR4 LED</tr></thead><tbody class=h>\\n<tr><td onclick=A(this) class=r><img src=d.gif>芝奇G.SKILL 幻光戟 8G*2 雙通道DDR4-2400 CL15 (黑銀)(F4-2400C15D-16GTZR) [終保], $4810 <i>Hot！</i></tr>\\n<tr><td onclick=A(this)><img src=d.gif>芝奇G.SKILL 幻光戟 8G*4 四通道DDR4-2400 CL15 (黑銀)(F4-2400C15Q-32GTZR) [終保], $9690</tr>\\n<tr><td onclick=A(this)><img src=d.gif>芝奇G.SKILL 幻光戟 8G*2 雙通道DDR4-3000 CL16 (黑銀)(F4-3000C16D-16GTZR) [終保], $4840</tr>\\n<tr><td onclick=A(this)><img src=d.gif>芝奇G.SKILL 幻光戟 16G*2 雙通道DDR4-3000 CL14 (黑銀)(F4-3000C14D-32GTZR) [終保], $11230</tr>\\n<tr><td onclick=A(this)><img src=d.gif>芝奇G.SKILL 幻光戟 8G*4 四通道DDR4-3000 CL16 (黑銀)(F4-3000C16Q-32GTZR) [終保], $9740</tr>\\n<tr><td onclick=A(this)><img src=d.gif>芝奇G.SKILL 幻光戟 8G*2 雙通道DDR4-3200 CL16 (黑銀)(F4-3200C16D-16GTZR) [終保], $5390</tr>\\n<tr><td onclick=A(this)><img src=d.gif>芝奇G.SKILL 幻光戟16G*2 雙通道DDR4-3200 CL15 (黑銀)(F4-3200C15D-32GTZR) [終保], $12010</tr>\\n<tr><td onclick=A(this)><img src=d.gif>芝奇G.SKILL 幻光戟 8G*4 四通道DDR4-3200 CL16 (黑銀)(F4-3200C16Q-32GTZR) [終保], $10860</tr>\\n</tbody></table>\\n<table width=100% cellspacing=0><thead><tr><th onclick=Pull(this) onmouseover=Mon(this)><img src=\\'p.gif\\'> Flare X烈燄槍(For AMD Ryzen)桌上型DDR4超頻</tr></thead><tbody class=h>\\n<tr><td onclick=A(this)><img src=d.gif>芝奇G.SKILL 烈燄槍 8G*2雙通道DDR4-2400 CL16(黑) (F4-2400C16D-16GFX) [終保], $3950</tr>\\n<tr><td onclick=A(this)><img src=d.gif>芝奇G.SKILL 烈燄槍 8G*2雙通道DDR4-2400 CL16(紅) (F4-2400C16D-16GFXR) [終保], $3950</tr>\\n<tr><td onclick=A(this)><img src=d.gif>芝奇G.SKILL 烈燄槍 16G*2雙通道DDR4-2400 CL16(黑) (F4-2400C16D-32GFX) [終保], $7520</tr>\\n<tr><td onclick=A(this)><img src=d.gif>芝奇G.SKILL 烈燄槍 8G*2雙通道DDR4-3200 CL14(黑) (F4-3200C14D-16GFX) [終保], $6380</tr>\\n</tbody></table>\\n<table width=100% cellspacing=0><thead><tr><th onclick=Pull(this) onmouseover=Mon(this)><img src=\\'p.gif\\'> 桌上型記憶體 DDR1</tr></thead><tbody class=h>\\n<tr><td onclick=A(this)><img src=d.gif>UMAX 1G DDR-400, $450</tr>\\n</tbody></table>\\n<table width=100% cellspacing=0><thead><tr><th onclick=Pull(this) onmouseover=Mon(this)><img src=\\'p.gif\\'> 桌上型記憶體 DDR2</tr></thead><tbody class=h>\\n<tr><td onclick=A(this)><img src=d.gif>UMAX 2G DDR2-800(含散熱片), $689</tr>\\n<tr><td onclick=A(this)><img src=d.gif>金士頓 2G DDR2-800, $788</tr>\\n<tr><td onclick=A(this)><img src=d.gif>創見㊣ 2G DDR2-800, $880</tr>\\n</tbody></table>\\n<table width=100% cellspacing=0><thead><tr><th onclick=Pull(this) onmouseover=Mon(this)><img src=\\'p.gif\\'> 桌上型記憶體 DDR3</tr></thead><tbody class=h>\\n<tr><td onclick=A(this) class=g><img src=d.gif>UMAX 2G DDR3-1333, $399↗$430</tr>\\n<tr><td onclick=A(this)><img src=d.gif>UMAX 4G DDR3-1333, $699</tr>\\n<tr><td onclick=A(this)><img src=d.gif>UMAX 4G DDR3-1333(雙面顆粒), $770</tr>\\n<tr><td onclick=A(this) class=r><img src=d.gif>UMAX 4G DDR3-1600, $729 <i>Hot！</i></tr>\\n<tr><td onclick=A(this)><img src=d.gif>UMAX 4G DDR3-1600(雙面顆粒), $770</tr>\\n<tr><td onclick=A(this) class=r><img src=d.gif>UMAX 8G DDR3-1600, $1409 <i>Hot！</i></tr>\\n<tr><td onclick=A(this) class=r><img src=d.gif>創見JetRam 4G DDR3-1600, $760 <i>Hot！</i></tr>\\n<tr><td onclick=A(this) class=g><img src=d.gif>創見㊣ 4G DDR3-1600, $850↗$865</tr>\\n<tr><td onclick=A(this)><img src=d.gif>創見㊣ 8G DDR3-1600, $1650</tr>\\n<tr><td onclick=A(this)><img src=d.gif>金士頓 2G DDR3-1333, $450</tr>\\n<tr><td onclick=A(this) class=g><img src=d.gif>金士頓 2G DDR3-1600, $450↗$490</tr>\\n<tr><td onclick=A(this) class=g><img src=d.gif>金士頓 4G DDR3-1600, $799↗$830</tr>\\n<tr><td onclick=A(this) class=g><img src=d.gif>金士頓 8G DDR3-1600, $1550↗$1620</tr>\\n</tbody></table>\\n<table width=100% cellspacing=0><thead><tr><th onclick=Pull(this) onmouseover=Mon(this)><img src=\\'p.gif\\'> 桌上型記憶體 DDR3 雙通道</tr></thead><tbody class=h>\\n<tr><td onclick=A(this) class=r><img src=d.gif>UMAX 4G*2(8G) DDR3-1600含散熱片, $1499 <i>Hot！</i></tr>\\n<tr><td onclick=A(this) class=r><img src=d.gif>UMAX 8G*2(16G) DDR3-1600含散熱片, $2799 <i>Hot！</i></tr>\\n</tbody></table>\\n<table width=100% cellspacing=0><thead><tr><th onclick=Pull(this) onmouseover=Mon(this)><img src=\\'p.gif\\'> 桌上型記憶體 DDR4</tr></thead><tbody class=h>\\n<tr><td onclick=A(this) class=g><img src=d.gif>UMAX 4G DDR4-2133, $750↗$819</tr>\\n<tr><td onclick=A(this) class=r><img src=d.gif>UMAX 4G DDR4-2400, $859 <i>Hot！</i></tr>\\n<tr><td onclick=A(this) class=g><img src=d.gif>UMAX 8G DDR4-2133, $1399↗$1459</tr>\\n<tr><td onclick=A(this) class=r><img src=d.gif>UMAX 8G DDR4-2400, $1499 <i>Hot！</i></tr>\\n<tr><td onclick=A(this) class=r><img src=d.gif>UMAX 16G DDR4-2133, $2900 <i>Hot！</i></tr>\\n<tr><td onclick=A(this) class=r><img src=d.gif>UMAX 16G DDR4-2400, $2950 <i>Hot！</i></tr>\\n<tr><td onclick=A(this) class=r><img src=d.gif>V-color 4G DDR4 2400 iMS彩色IC, $780 <i>Hot！</i></tr>\\n<tr><td onclick=A(this) class=r><img src=d.gif>V-color 8G DDR4 2400 iMS彩色IC/黑色散熱片/單色LED發光, $1460 <i>Hot！</i></tr>\\n<tr><td onclick=A(this) class=r><img src=d.gif>V-color 16G DDR4 2400 iMS彩色IC, $3100 <i>Hot！</i></tr>\\n<tr><td onclick=A(this)><img src=d.gif>創見JetRam 4G DDR4-2400, $870</tr>\\n<tr><td onclick=A(this)><img src=d.gif>創見JetRam 8G DDR4-2400, $1720</tr>\\n<tr><td onclick=A(this)><img src=d.gif>創見JetRam 8G DDR4-2400..組裝價, $1630</tr>\\n<tr><td onclick=A(this) class=r><img src=d.gif>創見 8G DDR4-2400, $1790 <i>Hot！</i></tr>\\n<tr><td onclick=A(this)><img src=d.gif>創見 8G DDR4-2400..組裝價, $1680</tr>\\n<tr><td onclick=A(this) class=g><img src=d.gif>金士頓 4G DDR4-2133, $888↗$930</tr>\\n<tr><td onclick=A(this) class=g><img src=d.gif>金士頓 4G DDR4-2400, $888↗$930</tr>\\n<tr><td onclick=A(this) class=g><img src=d.gif>金士頓 8G DDR4-2133, $1630↗$1799</tr>\\n<tr><td onclick=A(this) class=r><img src=d.gif>金士頓 8G DDR4-2133..組裝價, $1699 <i>Hot！</i></tr>\\n<tr><td onclick=A(this) class=g><img src=d.gif>金士頓 8G DDR4-2400, $1630↗$1799</tr>\\n<tr><td onclick=A(this) class=r><img src=d.gif>金士頓 8G DDR4-2400..組裝價, $1699 <i>Hot！</i></tr>\\n<tr><td onclick=A(this) class=b><img src=d.gif>金士頓 8G DDR4-2400 HyperX FURY(黑), $1830↘$1800 <i>Hot！</i></tr>\\n<tr><td onclick=A(this) class=b><img src=d.gif>金士頓 8G DDR4-2400 HyperX FURY(紅), $1830↘$1800 <i>Hot！</i></tr>\\n<tr><td onclick=A(this) class=g><img src=d.gif>金士頓 8G DDR4-3000 HyperX Savage(黑), $1888↗$2420</tr>\\n<tr><td onclick=A(this)><img src=d.gif>金士頓 8G DDR4-3000 HyperX Savage(黑)..組裝價, $2300</tr>\\n<tr><td onclick=A(this) class=g><img src=d.gif>金士頓 16G DDR4-2133, $3250↗$3570</tr>\\n<tr><td onclick=A(this) class=g><img src=d.gif>金士頓 16G DDR4-2133..組裝價, $3100↗$3470</tr>\\n<tr><td onclick=A(this) class=g><img src=d.gif>金士頓 16G DDR4-2400, $3250↗$3630</tr>\\n<tr><td onclick=A(this)><img src=d.gif>金士頓 16G DDR4-2400..組裝價, $3500</tr>\\n<tr><td onclick=A(this) class=g><img src=d.gif>金士頓 16G DDR4-2400 HyperX FURY(黑), $3450↗$3600</tr>\\n<tr><td onclick=A(this) class=g><img src=d.gif>金士頓 16G DDR4-2400 HyperX FURY(黑)..組裝價, $3570↘$3500</tr>\\n<tr><td onclick=A(this) class=g><img src=d.gif>金士頓 16G DDR4-2400 HyperX FURY(紅), $3450↗$3600</tr>\\n<tr><td onclick=A(this) class=g><img src=d.gif>金士頓 16G DDR4-2400 HyperX FURY(紅)..組裝價, $3350↗$3500</tr>\\n</tbody></table>\\n<table width=100% cellspacing=0><thead><tr><th onclick=Pull(this) onmouseover=Mon(this)><img src=\\'p.gif\\'> 桌上型記憶體 DDR4 雙通道</tr></thead><tbody class=h>\\n<tr><td onclick=A(this) class=r><img src=d.gif>UMAX 4G*2 DDR4-2133含散熱片, $1669 <i>Hot！</i></tr>\\n<tr><td onclick=A(this) class=r><img src=d.gif>UMAX 8G*2 DDR4-2133含散熱片, $2959 <i>Hot！</i></tr>\\n<tr><td onclick=A(this) class=r><img src=d.gif>UMAX 8G*2 DDR4-2400含散熱片, $2999 <i>Hot！</i></tr>\\n<tr><td onclick=A(this) class=r><img src=d.gif>UMAX 16G*2 DDR4-2133含散熱片, $6219 <i>Hot！</i></tr>\\n<tr><td onclick=A(this) class=r><img src=d.gif>UMAX 16G*2 DDR4-2400含散熱片, $6319 <i>Hot！</i></tr>\\n<tr><td onclick=A(this) class=r><img src=d.gif>金士頓 8G*2 DDR4-2400 HyperX FURY(黑)【活動加送金士頓HyperX防水手機袋】, $3550 <i>Hot！</i></tr>\\n<tr><td onclick=A(this) class=r><img src=d.gif>金士頓 8G*2 DDR4-2400 HyperX FURY(紅)【活動加送金士頓HyperX防水手機袋】, $3650 <i>Hot！</i></tr>\\n<tr><td onclick=A(this) class=g><img src=d.gif>金士頓 8G*2 DDR4-3200 HyperX Predator(黑), $4888↘$4800</tr>\\n<tr><td onclick=A(this) class=g><img src=d.gif>金士頓 16G*2 DDR4-2400 HyperX FURY(黑), $7450↘$7100</tr>\\n</tbody></table>\\n<table width=100% cellspacing=0><thead><tr><th onclick=Pull(this) onmouseover=Mon(this)><img src=\\'p.gif\\'> 桌上型記憶體 DDR4 四通道</tr></thead><tbody class=h>\\n<tr><td onclick=A(this) class=g><img src=d.gif>金士頓 8G*4 DDR4-2400 HyperX FURY(黑), $8280↘$7999</tr>\\n<tr><td onclick=A(this) class=g><img src=d.gif>金士頓 8G*4 DDR4-2400 HyperX Savage(黑), $8600↗$8700</tr>\\n<tr><td onclick=A(this) class=g><img src=d.gif>金士頓 8G*4 DDR4-2666 HyperX FURY(黑), $8780↘$8500</tr>\\n<tr><td onclick=A(this) class=g><img src=d.gif>金士頓 8G*4 DDR4-2666 HyperX Savage(黑), $9150↘$8950</tr>\\n<tr><td onclick=A(this)><img src=d.gif>金士頓 8G*4 DDR4-3000 HyperX Predator, $9350</tr>\\n<tr><td onclick=A(this) class=g><img src=d.gif>金士頓 8G*4 DDR4-3200 HyperX Predator, $9900↘$9800</tr>\\n<tr><td onclick=A(this) class=g><img src=d.gif>金士頓 16G*4 DDR4-2400 HyperX FURY(黑), $15800↘$15500</tr>\\n<tr><td onclick=A(this) class=g><img src=d.gif>金士頓 16G*4 DDR4-2400 HyperX Savage(黑), $16800↘$16700</tr>\\n<tr><td onclick=A(this) class=g><img src=d.gif>金士頓 16G*4 DDR4-2666 HyperX Savage(黑), $17200↘$17000</tr>\\n<tr><td onclick=A(this) class=g><img src=d.gif>金士頓 16G*4 DDR4-3000 HyperX Predator, $17900↘$17800</tr>\\n</tbody></table>\\n<table width=100% cellspacing=0><thead><tr><th onclick=Pull(this) onmouseover=Mon(this)><img src=\\'p.gif\\'> 筆記型記憶體 DDR2</tr></thead><tbody class=h>\\n<tr><td onclick=A(this)><img src=d.gif>UMAX NB 2G DDR2-800, $680</tr>\\n</tbody></table>\\n<table width=100% cellspacing=0><thead><tr><th onclick=Pull(this) onmouseover=Mon(this)><img src=\\'p.gif\\'> 筆記型記憶體 DDR3</tr></thead><tbody class=h>\\n<tr><td onclick=A(this) class=r><img src=d.gif>UMAX NB 4G DDR3L-1600 低電壓, $730 <i>Hot！</i></tr>\\n<tr><td onclick=A(this) class=r><img src=d.gif>UMAX NB 8G DDR3L-1600 低電壓, $1380 <i>Hot！</i></tr>\\n<tr><td onclick=A(this) class=g><img src=d.gif>金士頓 NB 2G DDR3-1333, $450↗$460</tr>\\n<tr><td onclick=A(this) class=g><img src=d.gif>金士頓 NB 4G DDR3-1333, $790↗$850</tr>\\n<tr><td onclick=A(this) class=g><img src=d.gif>金士頓 NB 4G DDR3-1600, $790↗$850</tr>\\n<tr><td onclick=A(this) class=g><img src=d.gif>金士頓 NB 4G DDR3L-1600 低電壓, $790↗$850</tr>\\n<tr><td onclick=A(this) class=r><img src=d.gif>金士頓 NB 8G DDR3-1600, $1599 <i>Hot！</i></tr>\\n<tr><td onclick=A(this) class=g><img src=d.gif>金士頓 NB 8G DDR3L-1600 低電壓, $1530↗$1599</tr>\\n<tr><td onclick=A(this)><img src=d.gif>創見㊣ NB 4G DDR3L-1600 低電壓, $850</tr>\\n</tbody></table>\\n<table width=100% cellspacing=0><thead><tr><th onclick=Pull(this) onmouseover=Mon(this)><img src=\\'p.gif\\'> 筆記型記憶體 DDR4</tr></thead><tbody class=h>\\n<tr><td onclick=A(this) class=r><img src=d.gif>UMAX NB 4G DDR4-2133, $809 <i>Hot！</i></tr>\\n<tr><td onclick=A(this) class=r><img src=d.gif>UMAX NB 4G DDR4-2400, $839 <i>Hot！</i></tr>\\n<tr><td onclick=A(this) class=r><img src=d.gif>UMAX NB 8G DDR4-2133, $1469 <i>Hot！</i></tr>\\n<tr><td onclick=A(this) class=r><img src=d.gif>UMAX NB 8G DDR4-2400, $1499 <i>Hot！</i></tr>\\n<tr><td onclick=A(this) class=r><img src=d.gif>UMAX NB 16G DDR4-2133, $3069 <i>Hot！</i></tr>\\n<tr><td onclick=A(this) class=r><img src=d.gif>UMAX NB 16G DDR4-2400, $3099 <i>Hot！</i></tr>\\n<tr><td onclick=A(this) class=g><img src=d.gif>金士頓 NB 4G DDR4-2133, $880↗$930</tr>\\n<tr><td onclick=A(this) class=g><img src=d.gif>金士頓 NB 4G DDR4-2400, $899↗$930</tr>\\n<tr><td onclick=A(this) class=g><img src=d.gif>金士頓 NB 8G DDR4-2133, $1650↗$1820</tr>\\n<tr><td onclick=A(this) class=g><img src=d.gif>金士頓 NB 8G DDR4-2400, $1650↗$1820</tr>\\n<tr><td onclick=A(this) class=g><img src=d.gif>金士頓 NB 16G DDR4-2133, $3288↗$3570</tr>\\n<tr><td onclick=A(this) class=g><img src=d.gif>金士頓 NB 16G DDR4-2400, $3288↗$3570</tr>\\n</td></tbody></table>\\n</span>\\n<div><table background=img/navbg1.png cellspacing=0 class=t onclick=\"location.replace(\\'./\\')\"><tr><td width=68 align=center valign=middle><img src=img/back3.png><td><span class=r>紅-熱賣</span> <span class=g>綠-價格異動</span> <span class=b>藍-熱賣+價異</span><br><span>原價屋 2017年7月7日14:02 更新</span></tr></table></div>\\n<div style=\"width:800;padding-top:8\" align=center>\\n<span class=s><img src=img/info.png onclick=\"top.location.href=\\'http://www.coolpc.com.tw/phpBB2/portal_pages.php?page=6\\'\"</span>\\n<span class=s><img src=img/rss.png onclick=\"top.location.href=\\'http://www.coolpc.com.tw/phpBB2/portal/syndicate.php\\'\"</span>\\n<span class=s><img src=img/fb.png onclick=\"top.location.href=\\'http://www.facebook.com/pages/yuan-jia-wucoolpc/169635866411766#!/pages/yuan-jia-wucoolpc/169635866411766?v=wall\\'\"></span>\\n<span class=s><img src=img/pcc.png onclick=\"top.location.href=\\'/evaluate.php\\'\"></span>\\n</div>\\n<hr width=800>\\n</body>\\n</html>\\n'"
      ]
     },
     "execution_count": 10,
     "metadata": {},
     "output_type": "execute_result"
    }
   ],
   "source": [
    "res.text"
   ]
  },
  {
   "cell_type": "code",
   "execution_count": 12,
   "metadata": {
    "collapsed": true
   },
   "outputs": [],
   "source": [
    "soup = BeautifulSoup(res.text, \"lxml\")"
   ]
  },
  {
   "cell_type": "code",
   "execution_count": 35,
   "metadata": {},
   "outputs": [
    {
     "data": {
      "text/plain": [
       "['V-color 16GB DDR4 2133MHz Ecc Reg 伺服器專用記憶體, $4150 Hot！',\n",
       " 'V-color 16GB DDR4 2400MHz Ecc Reg 伺服器專用記憶體, $4450 Hot！',\n",
       " '金士頓 8G DDR4-2133 Ecc Reg (KVR21R15S4/8), $2250↗$2500',\n",
       " '金士頓 8G DDR4-2400 Ecc Reg (KVR24R17S4/8), $2550↗$2820',\n",
       " '金士頓 16G DDR4-2133 Ecc Reg (KVR21R15D4/16), $3950↗$4650',\n",
       " '金士頓 16G DDR4-2400 Ecc Reg (KVR24R17D4/16), $4299↗$4950']"
      ]
     },
     "execution_count": 35,
     "metadata": {},
     "output_type": "execute_result"
    }
   ],
   "source": [
    "# 假如我想要找的，是 伺服器專用記憶體 DDR4 RDIMM\n",
    "prods = []  # each production store as an element of prod list\n",
    "\n",
    "for row in soup.select(\"span.Q > table\")[2].select(\"td\"):\n",
    "    prods.append(row.text)\n",
    "prods"
   ]
  },
  {
   "cell_type": "code",
   "execution_count": 29,
   "metadata": {},
   "outputs": [
    {
     "data": {
      "text/plain": [
       "6"
      ]
     },
     "execution_count": 29,
     "metadata": {},
     "output_type": "execute_result"
    }
   ],
   "source": [
    "len(prod)"
   ]
  },
  {
   "cell_type": "code",
   "execution_count": 41,
   "metadata": {},
   "outputs": [
    {
     "data": {
      "text/plain": [
       "[2, 3, 4, 5]"
      ]
     },
     "execution_count": 41,
     "metadata": {},
     "output_type": "execute_result"
    }
   ],
   "source": [
    "# lsit comprehension\n",
    "[i+1 for i in [1,2,3,4]]"
   ]
  },
  {
   "cell_type": "code",
   "execution_count": 97,
   "metadata": {},
   "outputs": [
    {
     "data": {
      "text/plain": [
       "[{'Name': 'V-color 16GB DDR4 2133MHz Ecc Reg 伺服器專用記憶體', 'Price': 4150},\n",
       " {'Name': 'V-color 16GB DDR4 2400MHz Ecc Reg 伺服器專用記憶體', 'Price': 4450},\n",
       " {'Name': '金士頓 8G DDR4-2133 Ecc Reg (KVR21R15S4/8)', 'Price': 2500},\n",
       " {'Name': '金士頓 8G DDR4-2400 Ecc Reg (KVR24R17S4/8)', 'Price': 2820},\n",
       " {'Name': '金士頓 16G DDR4-2133 Ecc Reg (KVR21R15D4/16)', 'Price': 4650},\n",
       " {'Name': '金士頓 16G DDR4-2400 Ecc Reg (KVR24R17D4/16)', 'Price': 4950}]"
      ]
     },
     "execution_count": 97,
     "metadata": {},
     "output_type": "execute_result"
    }
   ],
   "source": [
    "result = []\n",
    "for prod in prods:\n",
    "    ssd = {}\n",
    "    ssd['Name'] = prod.split(',')[0]\n",
    "    idx = len(re.findall('\\$\\d+', prod)) # compute the length of the price list\n",
    "    ssd['Price'] = (int)(re.findall('\\$(\\d+)', prod)[idx-1]) # use last price \n",
    "    result.append(ssd)\n",
    "result "
   ]
  },
  {
   "cell_type": "code",
   "execution_count": 98,
   "metadata": {
    "collapsed": true
   },
   "outputs": [],
   "source": [
    "# RDBMS\n",
    "import sqlite3"
   ]
  },
  {
   "cell_type": "code",
   "execution_count": 3,
   "metadata": {},
   "outputs": [
    {
     "name": "stdout",
     "output_type": "stream",
     "text": [
      "/home/ubuntu/Workspace\r\n"
     ]
    }
   ],
   "source": [
    "!pwd"
   ]
  },
  {
   "cell_type": "code",
   "execution_count": 99,
   "metadata": {},
   "outputs": [],
   "source": [
    "# Connect\n",
    "db = sqlite3.connect('./ssd.sqlite')"
   ]
  },
  {
   "cell_type": "code",
   "execution_count": 100,
   "metadata": {},
   "outputs": [
    {
     "name": "stdout",
     "output_type": "stream",
     "text": [
      "chromedriver\t\t\t\t\t       pythonFiles\r\n",
      "coolpc & RDBMS.ipynb\t\t\t\t       Selenium.ipynb\r\n",
      "dict.txt.big\t\t\t\t\t       ssd.sqlite\r\n",
      "fb_1498722101.json\t\t\t\t       state_tech.csv\r\n",
      "MP20170629  HTTP request.ipynb\t\t\t       tech_code.csv\r\n",
      "My20170630 fb grphic API.ipynb\t\t\t       tomamu.html\r\n",
      "My20170701 Specific tools, search from 104 jobs.ipynb  Tsai.txt\r\n",
      "PTO_crawler.ipynb\r\n"
     ]
    }
   ],
   "source": [
    "!ls"
   ]
  },
  {
   "cell_type": "code",
   "execution_count": 101,
   "metadata": {
    "collapsed": true
   },
   "outputs": [],
   "source": [
    "# Cursor\n",
    "cur = db.cursor()"
   ]
  },
  {
   "cell_type": "code",
   "execution_count": 102,
   "metadata": {},
   "outputs": [
    {
     "ename": "OperationalError",
     "evalue": "near \" \": syntax error",
     "output_type": "error",
     "traceback": [
      "\u001b[0;31m---------------------------------------------------------------------------\u001b[0m",
      "\u001b[0;31mOperationalError\u001b[0m                          Traceback (most recent call last)",
      "\u001b[0;32m<ipython-input-102-3a88d02bc8f8>\u001b[0m in \u001b[0;36m<module>\u001b[0;34m()\u001b[0m\n\u001b[1;32m      1\u001b[0m \u001b[0;31m# Execute\u001b[0m\u001b[0;34m\u001b[0m\u001b[0;34m\u001b[0m\u001b[0m\n\u001b[0;32m----> 2\u001b[0;31m \u001b[0mcur\u001b[0m\u001b[0;34m.\u001b[0m\u001b[0mexecute\u001b[0m\u001b[0;34m(\u001b[0m\u001b[0;34m\"CREATE TABLE \"\u001b[0m\u001b[0;34m)\u001b[0m\u001b[0;34m\u001b[0m\u001b[0m\n\u001b[0m",
      "\u001b[0;31mOperationalError\u001b[0m: near \" \": syntax error"
     ]
    }
   ],
   "source": [
    "# Execute\n",
    "cur.execute(\"CREATE TABLE \")"
   ]
  },
  {
   "cell_type": "code",
   "execution_count": 103,
   "metadata": {
    "collapsed": true
   },
   "outputs": [],
   "source": [
    "import pymysql"
   ]
  },
  {
   "cell_type": "code",
   "execution_count": 104,
   "metadata": {
    "collapsed": true
   },
   "outputs": [],
   "source": [
    "import pandas"
   ]
  },
  {
   "cell_type": "code",
   "execution_count": 112,
   "metadata": {},
   "outputs": [
    {
     "data": {
      "text/html": [
       "<div>\n",
       "<style>\n",
       "    .dataframe thead tr:only-child th {\n",
       "        text-align: right;\n",
       "    }\n",
       "\n",
       "    .dataframe thead th {\n",
       "        text-align: left;\n",
       "    }\n",
       "\n",
       "    .dataframe tbody tr th {\n",
       "        vertical-align: top;\n",
       "    }\n",
       "</style>\n",
       "<table border=\"1\" class=\"dataframe\">\n",
       "  <thead>\n",
       "    <tr style=\"text-align: right;\">\n",
       "      <th></th>\n",
       "      <th>Name</th>\n",
       "      <th>Price</th>\n",
       "    </tr>\n",
       "  </thead>\n",
       "  <tbody>\n",
       "    <tr>\n",
       "      <th>0</th>\n",
       "      <td>V-color 16GB DDR4 2133MHz Ecc Reg 伺服器專用記憶體</td>\n",
       "      <td>4150</td>\n",
       "    </tr>\n",
       "    <tr>\n",
       "      <th>1</th>\n",
       "      <td>V-color 16GB DDR4 2400MHz Ecc Reg 伺服器專用記憶體</td>\n",
       "      <td>4450</td>\n",
       "    </tr>\n",
       "    <tr>\n",
       "      <th>2</th>\n",
       "      <td>金士頓 8G DDR4-2133 Ecc Reg (KVR21R15S4/8)</td>\n",
       "      <td>2500</td>\n",
       "    </tr>\n",
       "    <tr>\n",
       "      <th>3</th>\n",
       "      <td>金士頓 8G DDR4-2400 Ecc Reg (KVR24R17S4/8)</td>\n",
       "      <td>2820</td>\n",
       "    </tr>\n",
       "    <tr>\n",
       "      <th>4</th>\n",
       "      <td>金士頓 16G DDR4-2133 Ecc Reg (KVR21R15D4/16)</td>\n",
       "      <td>4650</td>\n",
       "    </tr>\n",
       "    <tr>\n",
       "      <th>5</th>\n",
       "      <td>金士頓 16G DDR4-2400 Ecc Reg (KVR24R17D4/16)</td>\n",
       "      <td>4950</td>\n",
       "    </tr>\n",
       "  </tbody>\n",
       "</table>\n",
       "</div>"
      ],
      "text/plain": [
       "                                         Name  Price\n",
       "0  V-color 16GB DDR4 2133MHz Ecc Reg 伺服器專用記憶體   4150\n",
       "1  V-color 16GB DDR4 2400MHz Ecc Reg 伺服器專用記憶體   4450\n",
       "2     金士頓 8G DDR4-2133 Ecc Reg (KVR21R15S4/8)   2500\n",
       "3     金士頓 8G DDR4-2400 Ecc Reg (KVR24R17S4/8)   2820\n",
       "4   金士頓 16G DDR4-2133 Ecc Reg (KVR21R15D4/16)   4650\n",
       "5   金士頓 16G DDR4-2400 Ecc Reg (KVR24R17D4/16)   4950"
      ]
     },
     "execution_count": 112,
     "metadata": {},
     "output_type": "execute_result"
    }
   ],
   "source": [
    "df = pandas.DataFrame(result)\n",
    "df"
   ]
  },
  {
   "cell_type": "code",
   "execution_count": 114,
   "metadata": {},
   "outputs": [
    {
     "data": {
      "text/plain": [
       "[3735.0, 4005.0, 2250.0, 2538.0, 4185.0, 4455.0]"
      ]
     },
     "execution_count": 114,
     "metadata": {},
     "output_type": "execute_result"
    }
   ],
   "source": [
    "[each*0.9 for each in df.Price]\n",
    "# df.Price.replace('$', '') / ([0.9]*6)\n"
   ]
  },
  {
   "cell_type": "code",
   "execution_count": 115,
   "metadata": {},
   "outputs": [],
   "source": [
    "df['Discounted'] = df.Price*0.9"
   ]
  },
  {
   "cell_type": "code",
   "execution_count": 116,
   "metadata": {},
   "outputs": [
    {
     "data": {
      "text/html": [
       "<div>\n",
       "<style>\n",
       "    .dataframe thead tr:only-child th {\n",
       "        text-align: right;\n",
       "    }\n",
       "\n",
       "    .dataframe thead th {\n",
       "        text-align: left;\n",
       "    }\n",
       "\n",
       "    .dataframe tbody tr th {\n",
       "        vertical-align: top;\n",
       "    }\n",
       "</style>\n",
       "<table border=\"1\" class=\"dataframe\">\n",
       "  <thead>\n",
       "    <tr style=\"text-align: right;\">\n",
       "      <th></th>\n",
       "      <th>Name</th>\n",
       "      <th>Price</th>\n",
       "      <th>Discounted</th>\n",
       "    </tr>\n",
       "  </thead>\n",
       "  <tbody>\n",
       "    <tr>\n",
       "      <th>0</th>\n",
       "      <td>V-color 16GB DDR4 2133MHz Ecc Reg 伺服器專用記憶體</td>\n",
       "      <td>4150</td>\n",
       "      <td>3735.0</td>\n",
       "    </tr>\n",
       "    <tr>\n",
       "      <th>1</th>\n",
       "      <td>V-color 16GB DDR4 2400MHz Ecc Reg 伺服器專用記憶體</td>\n",
       "      <td>4450</td>\n",
       "      <td>4005.0</td>\n",
       "    </tr>\n",
       "    <tr>\n",
       "      <th>2</th>\n",
       "      <td>金士頓 8G DDR4-2133 Ecc Reg (KVR21R15S4/8)</td>\n",
       "      <td>2500</td>\n",
       "      <td>2250.0</td>\n",
       "    </tr>\n",
       "    <tr>\n",
       "      <th>3</th>\n",
       "      <td>金士頓 8G DDR4-2400 Ecc Reg (KVR24R17S4/8)</td>\n",
       "      <td>2820</td>\n",
       "      <td>2538.0</td>\n",
       "    </tr>\n",
       "    <tr>\n",
       "      <th>4</th>\n",
       "      <td>金士頓 16G DDR4-2133 Ecc Reg (KVR21R15D4/16)</td>\n",
       "      <td>4650</td>\n",
       "      <td>4185.0</td>\n",
       "    </tr>\n",
       "    <tr>\n",
       "      <th>5</th>\n",
       "      <td>金士頓 16G DDR4-2400 Ecc Reg (KVR24R17D4/16)</td>\n",
       "      <td>4950</td>\n",
       "      <td>4455.0</td>\n",
       "    </tr>\n",
       "  </tbody>\n",
       "</table>\n",
       "</div>"
      ],
      "text/plain": [
       "                                         Name  Price  Discounted\n",
       "0  V-color 16GB DDR4 2133MHz Ecc Reg 伺服器專用記憶體   4150      3735.0\n",
       "1  V-color 16GB DDR4 2400MHz Ecc Reg 伺服器專用記憶體   4450      4005.0\n",
       "2     金士頓 8G DDR4-2133 Ecc Reg (KVR21R15S4/8)   2500      2250.0\n",
       "3     金士頓 8G DDR4-2400 Ecc Reg (KVR24R17S4/8)   2820      2538.0\n",
       "4   金士頓 16G DDR4-2133 Ecc Reg (KVR21R15D4/16)   4650      4185.0\n",
       "5   金士頓 16G DDR4-2400 Ecc Reg (KVR24R17D4/16)   4950      4455.0"
      ]
     },
     "execution_count": 116,
     "metadata": {},
     "output_type": "execute_result"
    }
   ],
   "source": [
    "df"
   ]
  }
 ],
 "metadata": {
  "kernelspec": {
   "display_name": "Python 3",
   "language": "python",
   "name": "python3"
  },
  "language_info": {
   "codemirror_mode": {
    "name": "ipython",
    "version": 3
   },
   "file_extension": ".py",
   "mimetype": "text/x-python",
   "name": "python",
   "nbconvert_exporter": "python",
   "pygments_lexer": "ipython3",
   "version": "3.6.1"
  }
 },
 "nbformat": 4,
 "nbformat_minor": 2
}
